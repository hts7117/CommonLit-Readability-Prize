{
  "nbformat": 4,
  "nbformat_minor": 5,
  "metadata": {
    "kernelspec": {
      "display_name": "Python 3 (ipykernel)",
      "language": "python",
      "name": "python3"
    },
    "language_info": {
      "codemirror_mode": {
        "name": "ipython",
        "version": 3
      },
      "file_extension": ".py",
      "mimetype": "text/x-python",
      "name": "python",
      "nbconvert_exporter": "python",
      "pygments_lexer": "ipython3",
      "version": "3.8.8"
    },
    "toc": {
      "base_numbering": 1,
      "nav_menu": {},
      "number_sections": true,
      "sideBar": true,
      "skip_h1_title": false,
      "title_cell": "Table of Contents",
      "title_sidebar": "Contents",
      "toc_cell": false,
      "toc_position": {},
      "toc_section_display": true,
      "toc_window_display": false
    },
    "colab": {
      "name": "Report.ipynb",
      "provenance": [],
      "collapsed_sections": [
        "483e6c5d"
      ]
    }
  },
  "cells": [
    {
      "cell_type": "markdown",
      "metadata": {
        "id": "5b2dcf7c"
      },
      "source": [
        "# Báo cáo đồ án môn \"Khoa học dữ liệu ứng dụng\"\n",
        "\n",
        "Nhóm 4:\n",
        "1. 1712615 - Nguyễn Trọng Nghĩa - [GitHub](https://github.com/nguyentrongnghia142)\n",
        "2. [1712683] - Phạm Hoàng Phương - [Github]\n",
        "3. [MSSV] - [Họ tên] - [Nick Github]\n",
        "4. [MSSV] - [Họ tên] - [Nick Github]\n",
        "\n",
        "Link thùng chứa Github của nhóm: [Repo](https://github.com/nguyentrongnghia142/CommonLit-Readability-Prize)"
      ],
      "id": "5b2dcf7c"
    },
    {
      "cell_type": "markdown",
      "metadata": {
        "id": "2f93d974"
      },
      "source": [
        "## Mô tả bài toán\n",
        "[Bài toán](https://www.kaggle.com/c/commonlitreadabilityprize/overview)"
      ],
      "id": "2f93d974"
    },
    {
      "cell_type": "markdown",
      "metadata": {
        "id": "dc0bf646"
      },
      "source": [
        "* Bài toán dựa trên nhu cầu trong giáo dục của một tổ chức phi lợi nhuận nhằm cải thiện kĩ năng đọc và viết cho lớp học từ 3-12.\n",
        "* Bài toán nhằm cải thiện và đánh giá độ phức tạp của các đoạn trích, đoạn văn để thay thế các phương thức truyền thống cũ như Flesch-Kincaid Grade Level ...\n",
        "* Lợi ích: \n",
        "  - Giúp người học tiếp cận bài đọc đúng khả năng của mình và dễ dàng tiếp thu nó.\n",
        "  - Giúp có động lực hơn trong việc học và phát triển một cách tự nhiên hơn.\n",
        "  - Tránh được các điểm yếu mà phương pháp truyền thống cũ mang lại.\n",
        "\n",
        "* Dữ liệu các đoạn trích được lấy từ nhiều lĩnh vực và được nhiều người ở các độ tuổi khác nhạu đánh giá. \n",
        "* Dữ liệu chủ yếu bao gồm các đoạn trích, điểm số độ phức tạp, và độ lệnh chuẩn của điểm số.\n"
      ],
      "id": "dc0bf646"
    },
    {
      "cell_type": "markdown",
      "metadata": {
        "id": "d48122eb"
      },
      "source": [
        "## Giải quyết bài toán\n",
        "[Giải pháp](https://www.kaggle.com/c/commonlitreadabilityprize/discussion/258148) - Đứng thứ 4 trong private leaderboard"
      ],
      "id": "d48122eb"
    },
    {
      "cell_type": "markdown",
      "metadata": {
        "id": "483e6c5d"
      },
      "source": [
        "#### Lấy dữ liệu\n"
      ],
      "id": "483e6c5d"
    },
    {
      "cell_type": "code",
      "metadata": {
        "id": "zWHdWNQGsomY"
      },
      "source": [
        "!wget --no-check-certificate \"https://drive.google.com/uc?export=download&id=1_A5Y2u2XjFVfxVBr6flozZ-Gr0gKRaGm\" -O commonlitreadabilityprize.zip &> /dev/null\n",
        "!unzip /content/commonlitreadabilityprize.zip"
      ],
      "id": "zWHdWNQGsomY",
      "execution_count": null,
      "outputs": []
    },
    {
      "cell_type": "markdown",
      "metadata": {
        "id": "NKBcxZUR2q9e"
      },
      "source": [
        "#### EDA"
      ],
      "id": "NKBcxZUR2q9e"
    },
    {
      "cell_type": "code",
      "metadata": {
        "id": "Sv7xVGEs2zHl"
      },
      "source": [
        "import pandas as pd\n",
        "import matplotlib.pyplot as plt"
      ],
      "id": "Sv7xVGEs2zHl",
      "execution_count": null,
      "outputs": []
    },
    {
      "cell_type": "code",
      "metadata": {
        "colab": {
          "base_uri": "https://localhost:8080/",
          "height": 175
        },
        "id": "m3fhqiVV3O40",
        "outputId": "5bc04647-fac4-4e09-be35-9530656af72b"
      },
      "source": [
        "data_train = pd.read_csv(\"train.csv\",index_col=0)\n",
        "data_train.head(3)"
      ],
      "id": "m3fhqiVV3O40",
      "execution_count": null,
      "outputs": [
        {
          "output_type": "execute_result",
          "data": {
            "text/html": [
              "<div>\n",
              "<style scoped>\n",
              "    .dataframe tbody tr th:only-of-type {\n",
              "        vertical-align: middle;\n",
              "    }\n",
              "\n",
              "    .dataframe tbody tr th {\n",
              "        vertical-align: top;\n",
              "    }\n",
              "\n",
              "    .dataframe thead th {\n",
              "        text-align: right;\n",
              "    }\n",
              "</style>\n",
              "<table border=\"1\" class=\"dataframe\">\n",
              "  <thead>\n",
              "    <tr style=\"text-align: right;\">\n",
              "      <th></th>\n",
              "      <th>url_legal</th>\n",
              "      <th>license</th>\n",
              "      <th>excerpt</th>\n",
              "      <th>target</th>\n",
              "      <th>standard_error</th>\n",
              "    </tr>\n",
              "    <tr>\n",
              "      <th>id</th>\n",
              "      <th></th>\n",
              "      <th></th>\n",
              "      <th></th>\n",
              "      <th></th>\n",
              "      <th></th>\n",
              "    </tr>\n",
              "  </thead>\n",
              "  <tbody>\n",
              "    <tr>\n",
              "      <th>c12129c31</th>\n",
              "      <td>NaN</td>\n",
              "      <td>NaN</td>\n",
              "      <td>When the young people returned to the ballroom...</td>\n",
              "      <td>-0.340259</td>\n",
              "      <td>0.464009</td>\n",
              "    </tr>\n",
              "    <tr>\n",
              "      <th>85aa80a4c</th>\n",
              "      <td>NaN</td>\n",
              "      <td>NaN</td>\n",
              "      <td>All through dinner time, Mrs. Fayre was somewh...</td>\n",
              "      <td>-0.315372</td>\n",
              "      <td>0.480805</td>\n",
              "    </tr>\n",
              "    <tr>\n",
              "      <th>b69ac6792</th>\n",
              "      <td>NaN</td>\n",
              "      <td>NaN</td>\n",
              "      <td>As Roger had predicted, the snow departed as q...</td>\n",
              "      <td>-0.580118</td>\n",
              "      <td>0.476676</td>\n",
              "    </tr>\n",
              "  </tbody>\n",
              "</table>\n",
              "</div>"
            ],
            "text/plain": [
              "          url_legal license  ...    target  standard_error\n",
              "id                           ...                          \n",
              "c12129c31       NaN     NaN  ... -0.340259        0.464009\n",
              "85aa80a4c       NaN     NaN  ... -0.315372        0.480805\n",
              "b69ac6792       NaN     NaN  ... -0.580118        0.476676\n",
              "\n",
              "[3 rows x 5 columns]"
            ]
          },
          "metadata": {},
          "execution_count": 58
        }
      ]
    },
    {
      "cell_type": "code",
      "metadata": {
        "colab": {
          "base_uri": "https://localhost:8080/"
        },
        "id": "fs0TE0RwOYIO",
        "outputId": "ed92b994-eb6d-44f8-e390-4cde7a819610"
      },
      "source": [
        "data_train = data_train.dropna(axis = 1)\n",
        "data_train.shape"
      ],
      "id": "fs0TE0RwOYIO",
      "execution_count": null,
      "outputs": [
        {
          "output_type": "execute_result",
          "data": {
            "text/plain": [
              "(2834, 3)"
            ]
          },
          "metadata": {},
          "execution_count": 59
        }
      ]
    },
    {
      "cell_type": "code",
      "metadata": {
        "colab": {
          "base_uri": "https://localhost:8080/",
          "height": 300
        },
        "id": "vyYSSTrmOO49",
        "outputId": "21b672e6-eba7-4cd3-f64a-771c7cb7378d"
      },
      "source": [
        "data_train.describe()"
      ],
      "id": "vyYSSTrmOO49",
      "execution_count": null,
      "outputs": [
        {
          "output_type": "execute_result",
          "data": {
            "text/html": [
              "<div>\n",
              "<style scoped>\n",
              "    .dataframe tbody tr th:only-of-type {\n",
              "        vertical-align: middle;\n",
              "    }\n",
              "\n",
              "    .dataframe tbody tr th {\n",
              "        vertical-align: top;\n",
              "    }\n",
              "\n",
              "    .dataframe thead th {\n",
              "        text-align: right;\n",
              "    }\n",
              "</style>\n",
              "<table border=\"1\" class=\"dataframe\">\n",
              "  <thead>\n",
              "    <tr style=\"text-align: right;\">\n",
              "      <th></th>\n",
              "      <th>target</th>\n",
              "      <th>standard_error</th>\n",
              "    </tr>\n",
              "  </thead>\n",
              "  <tbody>\n",
              "    <tr>\n",
              "      <th>count</th>\n",
              "      <td>2834.000000</td>\n",
              "      <td>2834.000000</td>\n",
              "    </tr>\n",
              "    <tr>\n",
              "      <th>mean</th>\n",
              "      <td>-0.959319</td>\n",
              "      <td>0.491435</td>\n",
              "    </tr>\n",
              "    <tr>\n",
              "      <th>std</th>\n",
              "      <td>1.033579</td>\n",
              "      <td>0.034818</td>\n",
              "    </tr>\n",
              "    <tr>\n",
              "      <th>min</th>\n",
              "      <td>-3.676268</td>\n",
              "      <td>0.000000</td>\n",
              "    </tr>\n",
              "    <tr>\n",
              "      <th>25%</th>\n",
              "      <td>-1.690320</td>\n",
              "      <td>0.468543</td>\n",
              "    </tr>\n",
              "    <tr>\n",
              "      <th>50%</th>\n",
              "      <td>-0.912190</td>\n",
              "      <td>0.484721</td>\n",
              "    </tr>\n",
              "    <tr>\n",
              "      <th>75%</th>\n",
              "      <td>-0.202540</td>\n",
              "      <td>0.506268</td>\n",
              "    </tr>\n",
              "    <tr>\n",
              "      <th>max</th>\n",
              "      <td>1.711390</td>\n",
              "      <td>0.649671</td>\n",
              "    </tr>\n",
              "  </tbody>\n",
              "</table>\n",
              "</div>"
            ],
            "text/plain": [
              "            target  standard_error\n",
              "count  2834.000000     2834.000000\n",
              "mean     -0.959319        0.491435\n",
              "std       1.033579        0.034818\n",
              "min      -3.676268        0.000000\n",
              "25%      -1.690320        0.468543\n",
              "50%      -0.912190        0.484721\n",
              "75%      -0.202540        0.506268\n",
              "max       1.711390        0.649671"
            ]
          },
          "metadata": {},
          "execution_count": 60
        }
      ]
    },
    {
      "cell_type": "code",
      "metadata": {
        "colab": {
          "base_uri": "https://localhost:8080/",
          "height": 369
        },
        "id": "rOziLnKyNBTI",
        "outputId": "334014d4-432a-479a-edb3-4abcdbc76b3d"
      },
      "source": [
        "df = data_train\n",
        "n_bins = 20\n",
        "fig, axs = plt.subplots(1, figsize=(5, 5), sharey=True, tight_layout=True)\n",
        "\n",
        "axs.hist(df.target, bins=n_bins);\n",
        "# axs[1].hist(df.standard_error, bins=n_bins);"
      ],
      "id": "rOziLnKyNBTI",
      "execution_count": null,
      "outputs": [
        {
          "output_type": "display_data",
          "data": {
            "image/png": "[encoded data removed]",
            "text/plain": [
              "<Figure size 360x360 with 1 Axes>"
            ]
          },
          "metadata": {
            "needs_background": "light"
          }
        }
      ]
    },
    {
      "cell_type": "markdown",
      "metadata": {
        "id": "vT7SLn5WV3GJ"
      },
      "source": [
        "* Nhận xét :\n",
        "  - Đa phần các đoạn text đều trong tập train đều ở mức độ khó."
      ],
      "id": "vT7SLn5WV3GJ"
    },
    {
      "cell_type": "code",
      "metadata": {
        "colab": {
          "base_uri": "https://localhost:8080/",
          "height": 369
        },
        "id": "R-dn2bLqhyYT",
        "outputId": "a8277779-1e98-408b-d4e5-6eb94f9d7158"
      },
      "source": [
        "fig, axs = plt.subplots(1, figsize=(5, 5), sharey=True, tight_layout=True)\n",
        "\n",
        "axs.hist(df.standard_error, bins=n_bins);"
      ],
      "id": "R-dn2bLqhyYT",
      "execution_count": null,
      "outputs": [
        {
          "output_type": "display_data",
          "data": {
            "image/png": "[encoded data removed]",
            "text/plain": [
              "<Figure size 360x360 with 1 Axes>"
            ]
          },
          "metadata": {
            "needs_background": "light"
          }
        }
      ]
    },
    {
      "cell_type": "markdown",
      "metadata": {
        "id": "ypNp4W-91FvG"
      },
      "source": [
        "* Nhận xét: Độ lệch chuẩn của các đánh giá đa phần giao động trong khoảng 0.5"
      ],
      "id": "ypNp4W-91FvG"
    },
    {
      "cell_type": "markdown",
      "metadata": {
        "id": "8U0zOCln1ZOW"
      },
      "source": [
        "## Nhìn lại quá trình làm đồ án"
      ],
      "id": "8U0zOCln1ZOW"
    },
    {
      "cell_type": "markdown",
      "metadata": {
        "id": "72079acf"
      },
      "source": [
        "Sau bao ngày vất vả làm đồ án thì bây giờ đã kết thúc. Bây giờ là lúc để ngồi uống coffee và tĩnh tâm nhìn lại quá trình làm.\n",
        "\n",
        "- Mỗi thành viên: Đã gặp những khó khăn gì? (Hay mọi chuyện đều thuận lợi)\n",
        "- Mỗi thành viên: Có học được gì hữu ích? (Hay không học được gì)\n",
        "- Nhóm: Nếu có thêm thời gian thì sẽ làm gì?\n",
        "\n",
        "Phần này có sao thì bạn nói vậy thôi, chứ không phải là viết\n",
        "cho có, hoặc tự chế ra để nghe cho hay."
      ],
      "id": "72079acf"
    },
    {
      "cell_type": "markdown",
      "metadata": {
        "id": "4ae45e1e"
      },
      "source": [
        "## Tài liệu tham khảo"
      ],
      "id": "4ae45e1e"
    },
    {
      "cell_type": "markdown",
      "metadata": {
        "id": "9701b2bd"
      },
      "source": [
        "Để hoàn thành đồ án này, nhóm bạn đã tham khảo những tài liệu nào?"
      ],
      "id": "9701b2bd"
    }
  ]
}